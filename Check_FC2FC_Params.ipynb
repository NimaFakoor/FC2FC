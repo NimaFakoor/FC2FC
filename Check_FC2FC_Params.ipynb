{
  "cells": [
    {
      "cell_type": "markdown",
      "metadata": {
        "id": "NpP1lFDHP4nm"
      },
      "source": [
        "کد مربوط به مقاله ارسالی درخصوص تبدیل لایه‌های طبقه‌بند تمام متصل به پیچشی\n",
        "\n",
        "بررسی تغییر تعداد پارامترهای مدل تمام متصل درصورت تغییر اندازه ورودی و\n",
        "عدم تغییر تعداد پارامترها در مدل متناظر تمام پیچشی\n",
        "\n",
        "M. Amintoosi"
      ]
    },
    {
      "cell_type": "code",
      "execution_count": 10,
      "metadata": {
        "colab": {
          "base_uri": "https://localhost:8080/",
          "height": 35
        },
        "id": "QwTPUaXDP4n1",
        "outputId": "dd471ead-6b0d-4089-eaf6-fb7e869164ec"
      },
      "outputs": [
        {
          "output_type": "execute_result",
          "data": {
            "text/plain": [
              "'2.8.0'"
            ],
            "application/vnd.google.colaboratory.intrinsic+json": {
              "type": "string"
            }
          },
          "metadata": {},
          "execution_count": 10
        }
      ],
      "source": [
        "import keras\n",
        "from keras import layers\n",
        "from keras import models\n",
        "from keras import optimizers\n",
        "from keras.preprocessing.image import ImageDataGenerator\n",
        "# This is module with image preprocessing utilities\n",
        "from keras.preprocessing import image\n",
        "from keras.layers import BatchNormalization\n",
        "import tensorflow as tf\n",
        "from keras.callbacks import ModelCheckpoint\n",
        "keras.__version__"
      ]
    },
    {
      "cell_type": "code",
      "source": [
        "inputImSize = 150\n",
        "inputSize = inputImSize\n",
        "model = models.Sequential()\n",
        "model.add(layers.Conv2D(32, (3, 3), activation='relu', name=\"Conv1\",\n",
        "                        input_shape=(inputSize, inputSize, 3)))\n",
        "model.add(layers.MaxPooling2D((2, 2), name=\"MaxPool1\"))\n",
        "model.add(layers.Conv2D(64, (3, 3), activation='relu', name=\"Conv2\"))\n",
        "model.add(layers.MaxPooling2D((2, 2), name=\"MaxPool2\"))\n",
        "model.add(layers.Conv2D(128, (3, 3), activation='relu', name=\"Conv3\"))\n",
        "model.add(layers.MaxPooling2D((2, 2), name=\"MaxPool3\"))\n",
        "model.add(layers.Conv2D(128, (3, 3), activation='relu', name=\"Conv4\"))\n",
        "model.add(layers.MaxPooling2D((2, 2), name=\"MaxPool4\"))\n",
        "model.add(layers.Conv2D(256, (3, 3), activation='relu', name=\"Conv5\"))\n",
        "model.add(layers.Conv2D(512, (3, 3), activation='relu', name=\"Conv6\"))\n",
        "model.add(layers.MaxPooling2D((2, 2), name=\"MaxPool5\"))\n",
        "model.add(layers.Flatten(name=\"Flatten1\"))\n",
        "model.add(layers.Dense(1, activation='sigmoid', name=\"Dense1\"))\n",
        "model.summary()\n",
        "dot_img_file = 'model_FD.png'\n",
        "tf.keras.utils.plot_model(model, to_file=dot_img_file, show_shapes=True)\n",
        "with open('model_FD.txt','w') as fh:\n",
        "    # Pass the file handle in as a lambda function to make it callable\n",
        "    model.summary(print_fn=lambda x: fh.write(x + '\\n'))"
      ],
      "metadata": {
        "id": "jRKeR_0lwNU7",
        "outputId": "f88f1c50-c715-4d4d-ffea-859e21a04997",
        "colab": {
          "base_uri": "https://localhost:8080/"
        }
      },
      "execution_count": 11,
      "outputs": [
        {
          "output_type": "stream",
          "name": "stdout",
          "text": [
            "Model: \"sequential_7\"\n",
            "_________________________________________________________________\n",
            " Layer (type)                Output Shape              Param #   \n",
            "=================================================================\n",
            " Conv1 (Conv2D)              (None, 148, 148, 32)      896       \n",
            "                                                                 \n",
            " MaxPool1 (MaxPooling2D)     (None, 74, 74, 32)        0         \n",
            "                                                                 \n",
            " Conv2 (Conv2D)              (None, 72, 72, 64)        18496     \n",
            "                                                                 \n",
            " MaxPool2 (MaxPooling2D)     (None, 36, 36, 64)        0         \n",
            "                                                                 \n",
            " Conv3 (Conv2D)              (None, 34, 34, 128)       73856     \n",
            "                                                                 \n",
            " MaxPool3 (MaxPooling2D)     (None, 17, 17, 128)       0         \n",
            "                                                                 \n",
            " Conv4 (Conv2D)              (None, 15, 15, 128)       147584    \n",
            "                                                                 \n",
            " MaxPool4 (MaxPooling2D)     (None, 7, 7, 128)         0         \n",
            "                                                                 \n",
            " Conv5 (Conv2D)              (None, 5, 5, 256)         295168    \n",
            "                                                                 \n",
            " Conv6 (Conv2D)              (None, 3, 3, 512)         1180160   \n",
            "                                                                 \n",
            " MaxPool5 (MaxPooling2D)     (None, 1, 1, 512)         0         \n",
            "                                                                 \n",
            " Flatten1 (Flatten)          (None, 512)               0         \n",
            "                                                                 \n",
            " Dense1 (Dense)              (None, 1)                 513       \n",
            "                                                                 \n",
            "=================================================================\n",
            "Total params: 1,716,673\n",
            "Trainable params: 1,716,673\n",
            "Non-trainable params: 0\n",
            "_________________________________________________________________\n"
          ]
        }
      ]
    },
    {
      "cell_type": "code",
      "source": [
        "inputSize = inputImSize*2\n",
        "model = models.Sequential()\n",
        "model.add(layers.Conv2D(32, (3, 3), activation='relu', name=\"Conv1\",\n",
        "                        input_shape=(inputSize, inputSize, 3)))\n",
        "model.add(layers.MaxPooling2D((2, 2), name=\"MaxPool1\"))\n",
        "model.add(layers.Conv2D(64, (3, 3), activation='relu', name=\"Conv2\"))\n",
        "model.add(layers.MaxPooling2D((2, 2), name=\"MaxPool2\"))\n",
        "model.add(layers.Conv2D(128, (3, 3), activation='relu', name=\"Conv3\"))\n",
        "model.add(layers.MaxPooling2D((2, 2), name=\"MaxPool3\"))\n",
        "model.add(layers.Conv2D(128, (3, 3), activation='relu', name=\"Conv4\"))\n",
        "model.add(layers.MaxPooling2D((2, 2), name=\"MaxPool4\"))\n",
        "model.add(layers.Conv2D(256, (3, 3), activation='relu', name=\"Conv5\"))\n",
        "model.add(layers.Conv2D(512, (3, 3), activation='relu', name=\"Conv6\"))\n",
        "model.add(layers.MaxPooling2D((2, 2), name=\"MaxPool5\"))\n",
        "model.add(layers.Flatten(name=\"Flatten1\"))\n",
        "model.add(layers.Dense(1, activation='sigmoid', name=\"Dense1\"))\n",
        "model.summary()\n",
        "dot_img_file = 'model_FD_2x.png'\n",
        "tf.keras.utils.plot_model(model, to_file=dot_img_file, show_shapes=True)\n",
        "with open('model_FD_2x.txt','w') as fh:\n",
        "    # Pass the file handle in as a lambda function to make it callable\n",
        "    model.summary(print_fn=lambda x: fh.write(x + '\\n'))"
      ],
      "metadata": {
        "id": "_Kk95q26wNiW",
        "outputId": "6626cf24-b95b-4ce2-ceb2-c5fef8f81314",
        "colab": {
          "base_uri": "https://localhost:8080/"
        }
      },
      "execution_count": 12,
      "outputs": [
        {
          "output_type": "stream",
          "name": "stdout",
          "text": [
            "Model: \"sequential_8\"\n",
            "_________________________________________________________________\n",
            " Layer (type)                Output Shape              Param #   \n",
            "=================================================================\n",
            " Conv1 (Conv2D)              (None, 298, 298, 32)      896       \n",
            "                                                                 \n",
            " MaxPool1 (MaxPooling2D)     (None, 149, 149, 32)      0         \n",
            "                                                                 \n",
            " Conv2 (Conv2D)              (None, 147, 147, 64)      18496     \n",
            "                                                                 \n",
            " MaxPool2 (MaxPooling2D)     (None, 73, 73, 64)        0         \n",
            "                                                                 \n",
            " Conv3 (Conv2D)              (None, 71, 71, 128)       73856     \n",
            "                                                                 \n",
            " MaxPool3 (MaxPooling2D)     (None, 35, 35, 128)       0         \n",
            "                                                                 \n",
            " Conv4 (Conv2D)              (None, 33, 33, 128)       147584    \n",
            "                                                                 \n",
            " MaxPool4 (MaxPooling2D)     (None, 16, 16, 128)       0         \n",
            "                                                                 \n",
            " Conv5 (Conv2D)              (None, 14, 14, 256)       295168    \n",
            "                                                                 \n",
            " Conv6 (Conv2D)              (None, 12, 12, 512)       1180160   \n",
            "                                                                 \n",
            " MaxPool5 (MaxPooling2D)     (None, 6, 6, 512)         0         \n",
            "                                                                 \n",
            " Flatten1 (Flatten)          (None, 18432)             0         \n",
            "                                                                 \n",
            " Dense1 (Dense)              (None, 1)                 18433     \n",
            "                                                                 \n",
            "=================================================================\n",
            "Total params: 1,734,593\n",
            "Trainable params: 1,734,593\n",
            "Non-trainable params: 0\n",
            "_________________________________________________________________\n"
          ]
        }
      ]
    },
    {
      "cell_type": "code",
      "source": [
        ""
      ],
      "metadata": {
        "id": "0HFhdLEkPuzH"
      },
      "execution_count": 12,
      "outputs": []
    },
    {
      "cell_type": "code",
      "source": [
        "# مدل تبدیل شده به تمام پیچشی\n",
        "inputSize = inputImSize\n",
        "model = models.Sequential()\n",
        "model.add(layers.Conv2D(32, (3, 3), activation='relu', name=\"Conv1\",\n",
        "                        input_shape=(inputSize, inputSize, 3)))\n",
        "model.add(layers.MaxPooling2D((2, 2), name=\"MaxPool1\"))\n",
        "model.add(layers.Conv2D(64, (3, 3), activation='relu', name=\"Conv2\"))\n",
        "model.add(layers.MaxPooling2D((2, 2), name=\"MaxPool2\"))\n",
        "model.add(layers.Conv2D(128, (3, 3), activation='relu', name=\"Conv3\"))\n",
        "model.add(layers.MaxPooling2D((2, 2), name=\"MaxPool3\"))\n",
        "model.add(layers.Conv2D(128, (3, 3), activation='relu', name=\"Conv4\"))\n",
        "model.add(layers.MaxPooling2D((2, 2), name=\"MaxPool4\"))\n",
        "model.add(layers.Conv2D(256, (3, 3), activation='relu', name=\"Conv5\"))\n",
        "model.add(layers.Conv2D(512, (3, 3), activation='relu', name=\"Conv6\"))\n",
        "model.add(layers.MaxPooling2D((2, 2), name=\"MaxPool5\"))\n",
        "# model.add(layers.Flatten(name=\"Flatten1\"))\n",
        "# model.add(layers.Dense(1, activation='sigmoid', name=\"Dense1\"))\n",
        "# دو لایه بالا حذف شده و لایه‌ی پیچشی زیر جایگزین می‌شود\n",
        "model.add(layers.Conv2D(1, (1, 1), activation='sigmoid', name=\"lastConv\"))\n",
        "model.summary()\n",
        "\n",
        "dot_img_file = 'model_FC.png'\n",
        "tf.keras.utils.plot_model(model, to_file=dot_img_file, show_shapes=True)\n",
        "with open('model_FC.txt','w') as fh:\n",
        "    # Pass the file handle in as a lambda function to make it callable\n",
        "    model.summary(print_fn=lambda x: fh.write(x + '\\n'))"
      ],
      "metadata": {
        "colab": {
          "base_uri": "https://localhost:8080/"
        },
        "id": "tMAx_WVtQy7h",
        "outputId": "304f399b-8435-43cd-c157-9028e2f1ed13"
      },
      "execution_count": 13,
      "outputs": [
        {
          "output_type": "stream",
          "name": "stdout",
          "text": [
            "Model: \"sequential_9\"\n",
            "_________________________________________________________________\n",
            " Layer (type)                Output Shape              Param #   \n",
            "=================================================================\n",
            " Conv1 (Conv2D)              (None, 148, 148, 32)      896       \n",
            "                                                                 \n",
            " MaxPool1 (MaxPooling2D)     (None, 74, 74, 32)        0         \n",
            "                                                                 \n",
            " Conv2 (Conv2D)              (None, 72, 72, 64)        18496     \n",
            "                                                                 \n",
            " MaxPool2 (MaxPooling2D)     (None, 36, 36, 64)        0         \n",
            "                                                                 \n",
            " Conv3 (Conv2D)              (None, 34, 34, 128)       73856     \n",
            "                                                                 \n",
            " MaxPool3 (MaxPooling2D)     (None, 17, 17, 128)       0         \n",
            "                                                                 \n",
            " Conv4 (Conv2D)              (None, 15, 15, 128)       147584    \n",
            "                                                                 \n",
            " MaxPool4 (MaxPooling2D)     (None, 7, 7, 128)         0         \n",
            "                                                                 \n",
            " Conv5 (Conv2D)              (None, 5, 5, 256)         295168    \n",
            "                                                                 \n",
            " Conv6 (Conv2D)              (None, 3, 3, 512)         1180160   \n",
            "                                                                 \n",
            " MaxPool5 (MaxPooling2D)     (None, 1, 1, 512)         0         \n",
            "                                                                 \n",
            " lastConv (Conv2D)           (None, 1, 1, 1)           513       \n",
            "                                                                 \n",
            "=================================================================\n",
            "Total params: 1,716,673\n",
            "Trainable params: 1,716,673\n",
            "Non-trainable params: 0\n",
            "_________________________________________________________________\n"
          ]
        }
      ]
    },
    {
      "cell_type": "code",
      "source": [
        "# همان مدل تمام پیچشی بالا که اندازه ورودی دو برابر شده است\n",
        "inputSize = inputImSize*2\n",
        "\n",
        "model = models.Sequential()\n",
        "model.add(layers.Conv2D(32, (3, 3), activation='relu', name=\"Conv1\",\n",
        "                        input_shape=(inputSize, inputSize, 3)))\n",
        "model.add(layers.MaxPooling2D((2, 2), name=\"MaxPool1\"))\n",
        "model.add(layers.Conv2D(64, (3, 3), activation='relu', name=\"Conv2\"))\n",
        "model.add(layers.MaxPooling2D((2, 2), name=\"MaxPool2\"))\n",
        "model.add(layers.Conv2D(128, (3, 3), activation='relu', name=\"Conv3\"))\n",
        "model.add(layers.MaxPooling2D((2, 2), name=\"MaxPool3\"))\n",
        "model.add(layers.Conv2D(128, (3, 3), activation='relu', name=\"Conv4\"))\n",
        "model.add(layers.MaxPooling2D((2, 2), name=\"MaxPool4\"))\n",
        "model.add(layers.Conv2D(256, (3, 3), activation='relu', name=\"Conv5\"))\n",
        "model.add(layers.Conv2D(512, (3, 3), activation='relu', name=\"Conv6\"))\n",
        "model.add(layers.MaxPooling2D((2, 2), name=\"MaxPool5\"))\n",
        "# model.add(layers.Flatten(name=\"Flatten1\"))\n",
        "# model.add(layers.Dense(1, activation='sigmoid', name=\"Dense1\"))\n",
        "model.add(layers.Conv2D(1, (1, 1), activation='sigmoid', name=\"lastConv\"))\n",
        "model.summary()\n",
        "dot_img_file = 'model_FC_2x.png'\n",
        "tf.keras.utils.plot_model(model, to_file=dot_img_file, show_shapes=True)\n",
        "with open('model_FC_2x.txt','w') as fh:\n",
        "    # Pass the file handle in as a lambda function to make it callable\n",
        "    model.summary(print_fn=lambda x: fh.write(x + '\\n'))"
      ],
      "metadata": {
        "id": "xJ_IihAkwNuE",
        "outputId": "e72cb03a-0abd-46af-f406-92e6b1b3c5da",
        "colab": {
          "base_uri": "https://localhost:8080/"
        }
      },
      "execution_count": 14,
      "outputs": [
        {
          "output_type": "stream",
          "name": "stdout",
          "text": [
            "Model: \"sequential_10\"\n",
            "_________________________________________________________________\n",
            " Layer (type)                Output Shape              Param #   \n",
            "=================================================================\n",
            " Conv1 (Conv2D)              (None, 298, 298, 32)      896       \n",
            "                                                                 \n",
            " MaxPool1 (MaxPooling2D)     (None, 149, 149, 32)      0         \n",
            "                                                                 \n",
            " Conv2 (Conv2D)              (None, 147, 147, 64)      18496     \n",
            "                                                                 \n",
            " MaxPool2 (MaxPooling2D)     (None, 73, 73, 64)        0         \n",
            "                                                                 \n",
            " Conv3 (Conv2D)              (None, 71, 71, 128)       73856     \n",
            "                                                                 \n",
            " MaxPool3 (MaxPooling2D)     (None, 35, 35, 128)       0         \n",
            "                                                                 \n",
            " Conv4 (Conv2D)              (None, 33, 33, 128)       147584    \n",
            "                                                                 \n",
            " MaxPool4 (MaxPooling2D)     (None, 16, 16, 128)       0         \n",
            "                                                                 \n",
            " Conv5 (Conv2D)              (None, 14, 14, 256)       295168    \n",
            "                                                                 \n",
            " Conv6 (Conv2D)              (None, 12, 12, 512)       1180160   \n",
            "                                                                 \n",
            " MaxPool5 (MaxPooling2D)     (None, 6, 6, 512)         0         \n",
            "                                                                 \n",
            " lastConv (Conv2D)           (None, 6, 6, 1)           513       \n",
            "                                                                 \n",
            "=================================================================\n",
            "Total params: 1,716,673\n",
            "Trainable params: 1,716,673\n",
            "Non-trainable params: 0\n",
            "_________________________________________________________________\n"
          ]
        }
      ]
    },
    {
      "cell_type": "code",
      "source": [
        ""
      ],
      "metadata": {
        "id": "8IpFpaPXF7OH"
      },
      "execution_count": 14,
      "outputs": []
    }
  ],
  "metadata": {
    "colab": {
      "collapsed_sections": [],
      "name": "Check_FC2FC_Params.ipynb",
      "provenance": []
    },
    "kernelspec": {
      "display_name": "Python 3",
      "language": "python",
      "name": "python3"
    },
    "language_info": {
      "codemirror_mode": {
        "name": "ipython",
        "version": 3
      },
      "file_extension": ".py",
      "mimetype": "text/x-python",
      "name": "python",
      "nbconvert_exporter": "python",
      "pygments_lexer": "ipython3",
      "version": "3.7.6-final"
    }
  },
  "nbformat": 4,
  "nbformat_minor": 0
}